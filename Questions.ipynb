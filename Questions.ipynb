{
 "cells": [
  {
   "cell_type": "code",
   "execution_count": 7,
   "metadata": {
    "collapsed": true
   },
   "outputs": [],
   "source": [
    "import numpy as np"
   ]
  },
  {
   "cell_type": "markdown",
   "metadata": {},
   "source": [
    "## Consider a generator function that generates 10 integers and use it to build an array"
   ]
  },
  {
   "cell_type": "code",
   "execution_count": 5,
   "metadata": {
    "collapsed": true
   },
   "outputs": [],
   "source": [
    "def generate():\n",
    "    for x in range(25):\n",
    "        yield x"
   ]
  },
  {
   "cell_type": "code",
   "execution_count": 6,
   "metadata": {
    "collapsed": false
   },
   "outputs": [
    {
     "data": {
      "text/plain": [
       "array([  0.,   1.,   2.,   3.,   4.,   5.,   6.,   7.,   8.,   9.,  10.,\n",
       "        11.,  12.,  13.,  14.,  15.,  16.,  17.,  18.,  19.,  20.,  21.,\n",
       "        22.,  23.,  24.])"
      ]
     },
     "execution_count": 6,
     "metadata": {},
     "output_type": "execute_result"
    }
   ],
   "source": [
    "np.fromiter(generate(), dtype=float, count=-1)"
   ]
  },
  {
   "cell_type": "markdown",
   "metadata": {},
   "source": [
    "## Convert the Cartesian Coordinates to Polar Coordinates"
   ]
  },
  {
   "cell_type": "code",
   "execution_count": 14,
   "metadata": {
    "collapsed": false
   },
   "outputs": [
    {
     "data": {
      "text/plain": [
       "array([[ 0.42015214,  0.41792412],\n",
       "       [ 0.42450798,  0.27091407],\n",
       "       [ 0.49289123,  0.69635513],\n",
       "       [ 0.69540205,  0.35873655],\n",
       "       [ 0.06532448,  0.04597916],\n",
       "       [ 0.7190098 ,  0.25728366],\n",
       "       [ 0.74020853,  0.354     ],\n",
       "       [ 0.51589369,  0.43000397],\n",
       "       [ 0.79930338,  0.54039253],\n",
       "       [ 0.71967982,  0.25997476]])"
      ]
     },
     "execution_count": 14,
     "metadata": {},
     "output_type": "execute_result"
    }
   ],
   "source": [
    "Z = np.random.random((10, 2))"
   ]
  },
  {
   "cell_type": "code",
   "execution_count": 13,
   "metadata": {
    "collapsed": false
   },
   "outputs": [
    {
     "name": "stdout",
     "output_type": "stream",
     "text": [
      "[ 0.80275248  0.58024822  0.31634035  0.57495811  0.17065143  0.49838694\n",
      "  0.87538378  0.67325787  0.96726753  0.12913409]\n",
      "[ 0.08325807  0.29132686  0.59133478  0.41158461  0.10228901  0.88437902\n",
      "  0.03355543  0.11377132  0.29996262  0.0307325 ]\n",
      "[ 0.80705852  0.64927601  0.67063257  0.70709173  0.19895967  1.01514324\n",
      "  0.87602667  0.6828031   1.01271123  0.13274073]\n",
      "[ 0.10334624  0.46530449  1.07957356  0.6212855   0.53998057  1.05761377\n",
      "  0.03831349  0.16740472  0.30070913  0.23364272]\n"
     ]
    }
   ],
   "source": [
    "X,Y = Z[:,0], Z[:,1]\n",
    "R = np.sqrt(X**2 + Y**2)\n",
    "T = np.arctan2(Y, X)\n",
    "print(R)\n",
    "print(T)"
   ]
  },
  {
   "cell_type": "markdown",
   "metadata": {
    "collapsed": true
   },
   "source": [
    "## Get N largest elements in a array"
   ]
  },
  {
   "cell_type": "code",
   "execution_count": 30,
   "metadata": {
    "collapsed": false
   },
   "outputs": [],
   "source": [
    "Z = np.arange(10000)"
   ]
  },
  {
   "cell_type": "code",
   "execution_count": 40,
   "metadata": {
    "collapsed": false
   },
   "outputs": [
    {
     "name": "stdout",
     "output_type": "stream",
     "text": [
      "[1379 7005 6782 ..., 8542  936 1124]\n"
     ]
    }
   ],
   "source": [
    "np.random.shuffle(Z)\n",
    "print(Z)"
   ]
  },
  {
   "cell_type": "code",
   "execution_count": 42,
   "metadata": {
    "collapsed": false
   },
   "outputs": [],
   "source": [
    "sortedIndex = np.argsort(Z)"
   ]
  },
  {
   "cell_type": "code",
   "execution_count": 50,
   "metadata": {
    "collapsed": false
   },
   "outputs": [
    {
     "data": {
      "text/plain": [
       "array([9990, 9991, 9992, 9993, 9994, 9995, 9996, 9997, 9998, 9999])"
      ]
     },
     "execution_count": 50,
     "metadata": {},
     "output_type": "execute_result"
    }
   ],
   "source": [
    "Z[sortedIndex][-10:]"
   ]
  },
  {
   "cell_type": "markdown",
   "metadata": {},
   "source": [
    "## Create a 3x3x3 array with random values"
   ]
  },
  {
   "cell_type": "code",
   "execution_count": 51,
   "metadata": {
    "collapsed": false
   },
   "outputs": [
    {
     "data": {
      "text/plain": [
       "array([[[ 0.51936195,  0.42535873,  0.56290867],\n",
       "        [ 0.23766867,  0.0657398 ,  0.57934848],\n",
       "        [ 0.29681864,  0.98270058,  0.35020673]],\n",
       "\n",
       "       [[ 0.45569413,  0.12773342,  0.42387441],\n",
       "        [ 0.7348236 ,  0.00613982,  0.86680869],\n",
       "        [ 0.26212119,  0.86755021,  0.65918915]],\n",
       "\n",
       "       [[ 0.28567849,  0.09451365,  0.89331598],\n",
       "        [ 0.53873176,  0.42065315,  0.65882938],\n",
       "        [ 0.90627442,  0.89574278,  0.90321413]]])"
      ]
     },
     "execution_count": 51,
     "metadata": {},
     "output_type": "execute_result"
    }
   ],
   "source": [
    "np.random.random((3, 3, 3 ))"
   ]
  },
  {
   "cell_type": "markdown",
   "metadata": {},
   "source": [
    "## Bincount"
   ]
  },
  {
   "cell_type": "code",
   "execution_count": null,
   "metadata": {
    "collapsed": true
   },
   "outputs": [],
   "source": []
  }
 ],
 "metadata": {
  "kernelspec": {
   "display_name": "Python 3",
   "language": "python",
   "name": "python3"
  },
  "language_info": {
   "codemirror_mode": {
    "name": "ipython",
    "version": 3
   },
   "file_extension": ".py",
   "mimetype": "text/x-python",
   "name": "python",
   "nbconvert_exporter": "python",
   "pygments_lexer": "ipython3",
   "version": "3.5.2"
  }
 },
 "nbformat": 4,
 "nbformat_minor": 1
}
